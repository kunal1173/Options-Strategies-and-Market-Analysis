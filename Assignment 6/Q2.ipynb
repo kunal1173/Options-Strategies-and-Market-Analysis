{
 "cells": [
  {
   "cell_type": "code",
   "execution_count": 4,
   "id": "b59c70ff-b28f-467e-8c81-49ef0396d49b",
   "metadata": {},
   "outputs": [
    {
     "name": "stderr",
     "output_type": "stream",
     "text": [
      "[*********************100%%**********************]  5 of 5 completed"
     ]
    },
    {
     "name": "stdout",
     "output_type": "stream",
     "text": [
      "Returns\n",
      "Ticker          AAPL      AMZN     GOOGL      MSFT      TSLA\n",
      "Date                                                        \n",
      "2020-01-03 -0.009722 -0.012139 -0.005231 -0.012452  0.029633\n",
      "2020-01-06  0.007968  0.014886  0.026654  0.002585  0.019255\n",
      "2020-01-07 -0.004703  0.002092 -0.001932 -0.009118  0.038801\n",
      "2020-01-08  0.016086 -0.007809  0.007118  0.015929  0.049205\n",
      "2020-01-09  0.021241  0.004799  0.010498  0.012493 -0.021945\n",
      "...              ...       ...       ...       ...       ...\n",
      "2022-12-23 -0.002798  0.017425  0.016750  0.002267 -0.017551\n",
      "2022-12-27 -0.013878 -0.025924 -0.020621 -0.007414 -0.114089\n",
      "2022-12-28 -0.030685 -0.014692 -0.015677 -0.010255  0.033089\n",
      "2022-12-29  0.028324  0.028844  0.028249  0.027630  0.080827\n",
      "2022-12-30  0.002469 -0.002138 -0.002487 -0.004937  0.011164\n",
      "\n",
      "[755 rows x 5 columns]\n",
      "\n",
      "\n",
      "Portfolio Returns\n",
      "Date\n",
      "2020-01-03   -0.001982\n",
      "2020-01-06    0.014269\n",
      "2020-01-07    0.005028\n",
      "2020-01-08    0.016106\n",
      "2020-01-09    0.005417\n",
      "                ...   \n",
      "2022-12-23    0.003219\n",
      "2022-12-27   -0.036385\n",
      "2022-12-28   -0.007644\n",
      "2022-12-29    0.038775\n",
      "2022-12-30    0.000814\n",
      "Length: 755, dtype: float64\n",
      "\n",
      "\n",
      "Value at Risk (VaR) at 95% confidence level: 0.03705099428195422\n"
     ]
    },
    {
     "name": "stderr",
     "output_type": "stream",
     "text": [
      "\n"
     ]
    }
   ],
   "source": [
    "import yfinance as yf\n",
    "import pandas as pd\n",
    "import numpy as np\n",
    "\n",
    "\n",
    "tickers = ['AAPL', 'MSFT', 'GOOGL', 'AMZN', 'TSLA']  # Example tickers, replace with your own\n",
    "\n",
    "\n",
    "data = yf.download(tickers, start='2020-01-01', end='2023-01-01')['Adj Close']\n",
    "\n",
    "\n",
    "returns = data.pct_change().dropna()\n",
    "\n",
    "print(\"Returns\")\n",
    "print(returns)\n",
    "\n",
    "weights = np.array([1/len(returns.columns)] * len(returns.columns))\n",
    "\n",
    "# Calculate the portfolio returns\n",
    "portfolio_returns = returns.dot(weights)\n",
    "print(\"\\n\")\n",
    "print(\"Portfolio Returns\")\n",
    "print(portfolio_returns)\n",
    "confidence_level = 0.95\n",
    "var_95 = np.percentile(portfolio_returns, (1 - confidence_level) * 100)\n",
    "print(\"\\n\")\n",
    "print(\"Value at Risk (VaR) at 95% confidence level:\", -var_95)\n"
   ]
  }
 ],
 "metadata": {
  "kernelspec": {
   "display_name": "Python 3 (ipykernel)",
   "language": "python",
   "name": "python3"
  },
  "language_info": {
   "codemirror_mode": {
    "name": "ipython",
    "version": 3
   },
   "file_extension": ".py",
   "mimetype": "text/x-python",
   "name": "python",
   "nbconvert_exporter": "python",
   "pygments_lexer": "ipython3",
   "version": "3.9.0"
  }
 },
 "nbformat": 4,
 "nbformat_minor": 5
}
